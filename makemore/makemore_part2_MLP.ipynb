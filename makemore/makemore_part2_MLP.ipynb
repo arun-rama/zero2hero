{
 "cells": [
  {
   "cell_type": "code",
   "execution_count": 2,
   "metadata": {},
   "outputs": [],
   "source": [
    "import torch\n",
    "import torch.nn.functional as F\n",
    "import matplotlib.pyplot as plt # for making figures\n",
    "%matplotlib inline"
   ]
  },
  {
   "cell_type": "code",
   "execution_count": 3,
   "metadata": {},
   "outputs": [
    {
     "data": {
      "text/plain": [
       "['emma', 'olivia', 'ava', 'isabella', 'sophia', 'charlotte', 'mia', 'amelia']"
      ]
     },
     "execution_count": 3,
     "metadata": {},
     "output_type": "execute_result"
    }
   ],
   "source": [
    "words = open('names.txt', 'r').read().splitlines()\n",
    "words[:8]"
   ]
  },
  {
   "cell_type": "code",
   "execution_count": 4,
   "metadata": {},
   "outputs": [
    {
     "name": "stdout",
     "output_type": "stream",
     "text": [
      "{1: 'a', 2: 'b', 3: 'c', 4: 'd', 5: 'e', 6: 'f', 7: 'g', 8: 'h', 9: 'i', 10: 'j', 11: 'k', 12: 'l', 13: 'm', 14: 'n', 15: 'o', 16: 'p', 17: 'q', 18: 'r', 19: 's', 20: 't', 21: 'u', 22: 'v', 23: 'w', 24: 'x', 25: 'y', 26: 'z', 0: '.'}\n"
     ]
    }
   ],
   "source": [
    "# inverted index\n",
    "chars = sorted(list(set(''.join(words))))\n",
    "stoi = {s:i+1 for i,s in enumerate(chars)}\n",
    "stoi['.'] = 0\n",
    "itos = {i:s for s,i in stoi.items()}\n",
    "print(itos)"
   ]
  },
  {
   "cell_type": "code",
   "execution_count": 5,
   "metadata": {},
   "outputs": [
    {
     "name": "stdout",
     "output_type": "stream",
     "text": [
      "total dataset size: 32033\n",
      "data split training 182625 dev 22655 test 22866\n"
     ]
    }
   ],
   "source": [
    "# Build dataset \n",
    "\n",
    "block_size = 3 # context length: number of previous characters to consider for predicting next one\n",
    "\n",
    "def build_dataset(words):\n",
    "    X, Y = [], []\n",
    "    for w in words:\n",
    "        context = [0] * block_size\n",
    "        for c in w + '.':\n",
    "            i = stoi[c]\n",
    "            X.append(context)\n",
    "            Y.append(i)\n",
    "            # print(''.join(itos[i] for i in context), '--->', itos[i])\n",
    "            context = context[1:] + [i]\n",
    "    return torch.tensor(X), torch.tensor(Y)\n",
    "\n",
    "\n",
    "import random\n",
    "random.seed(42)\n",
    "random.shuffle(words)\n",
    "\n",
    "n1, n2 = int(0.8 * len(words)), int(0.9 * len(words))\n",
    "\n",
    "Xtr, Ytr = build_dataset(words[:n1])\n",
    "Xdev, Ydev = build_dataset(words[n1:n2])\n",
    "Xte, Yte = build_dataset(words[n2:])\n",
    "\n",
    "print(\"total dataset size:\", len(words))\n",
    "print(f\"data split training {len(Xtr)} dev {len(Xdev)} test {len(Xte)}\")    \n"
   ]
  },
  {
   "cell_type": "code",
   "execution_count": 6,
   "metadata": {},
   "outputs": [
    {
     "name": "stdout",
     "output_type": "stream",
     "text": [
      " num parameters: 11897\n"
     ]
    }
   ],
   "source": [
    "n_embed = 10\n",
    "n_hidden = 200\n",
    "\n",
    "g = torch.Generator().manual_seed(2147483647)\n",
    "# uniform or normal distribution\n",
    "randfn = torch.rand\n",
    "# we are representing each character by two values\n",
    "# this is alternative to the one hot encoding which wont scale well for large vocabularies and context lengths\n",
    "C = randfn((27, n_embed), generator=g, requires_grad=True)\n",
    "# layer 1\n",
    "W1 = randfn((block_size * n_embed, n_hidden), generator=g, requires_grad=True)\n",
    "b1 = randfn((n_hidden,), generator=g, requires_grad=True)\n",
    "# layer 2: output layer\n",
    "W2 = randfn((n_hidden, 27), generator=g, requires_grad=True)\n",
    "b2 = randfn((27,), generator=g, requires_grad=True)\n",
    "parameters = [C, W1, b1, W2, b2]\n",
    "print(\" num parameters:\", sum(p.numel() for p in parameters))\n"
   ]
  },
  {
   "cell_type": "code",
   "execution_count": 7,
   "metadata": {},
   "outputs": [],
   "source": [
    "lossi = []"
   ]
  },
  {
   "cell_type": "code",
   "execution_count": 8,
   "metadata": {},
   "outputs": [
    {
     "name": "stdout",
     "output_type": "stream",
     "text": [
      "00000/200000 loss: 6.6536\n",
      "01000/200000 loss: 3.4718\n",
      "02000/200000 loss: 5.0823\n",
      "03000/200000 loss: 3.6532\n",
      "04000/200000 loss: 4.3359\n",
      "05000/200000 loss: 4.2897\n",
      "06000/200000 loss: 4.2131\n",
      "07000/200000 loss: 4.9124\n",
      "08000/200000 loss: 3.7614\n",
      "09000/200000 loss: 4.1778\n",
      "10000/200000 loss: 3.3153\n",
      "11000/200000 loss: 3.9061\n",
      "12000/200000 loss: 3.7081\n",
      "13000/200000 loss: 3.5926\n",
      "14000/200000 loss: 3.8411\n",
      "15000/200000 loss: 3.2437\n",
      "16000/200000 loss: 3.6039\n",
      "17000/200000 loss: 4.9591\n",
      "18000/200000 loss: 3.6108\n",
      "19000/200000 loss: 3.4144\n",
      "20000/200000 loss: 3.7241\n",
      "21000/200000 loss: 4.0230\n",
      "22000/200000 loss: 3.4668\n",
      "23000/200000 loss: 3.9385\n",
      "24000/200000 loss: 3.9236\n",
      "25000/200000 loss: 3.1289\n",
      "26000/200000 loss: 3.7550\n",
      "27000/200000 loss: 3.0520\n",
      "28000/200000 loss: 3.7590\n",
      "29000/200000 loss: 4.1030\n",
      "30000/200000 loss: 3.0194\n",
      "31000/200000 loss: 2.8101\n",
      "32000/200000 loss: 2.9571\n",
      "33000/200000 loss: 2.6272\n",
      "34000/200000 loss: 2.7172\n",
      "35000/200000 loss: 2.9186\n",
      "36000/200000 loss: 2.3211\n",
      "37000/200000 loss: 2.3098\n",
      "38000/200000 loss: 2.8698\n",
      "39000/200000 loss: 2.4294\n",
      "40000/200000 loss: 2.3480\n",
      "41000/200000 loss: 2.4033\n",
      "42000/200000 loss: 1.9637\n",
      "43000/200000 loss: 2.5914\n",
      "44000/200000 loss: 2.6338\n",
      "45000/200000 loss: 2.2043\n",
      "46000/200000 loss: 2.3349\n",
      "47000/200000 loss: 1.8613\n",
      "48000/200000 loss: 2.2150\n",
      "49000/200000 loss: 2.3575\n",
      "50000/200000 loss: 2.3071\n",
      "51000/200000 loss: 2.0116\n",
      "52000/200000 loss: 2.5885\n",
      "53000/200000 loss: 2.4596\n",
      "54000/200000 loss: 2.3176\n",
      "55000/200000 loss: 2.3509\n",
      "56000/200000 loss: 2.2235\n",
      "57000/200000 loss: 2.3080\n",
      "58000/200000 loss: 1.9378\n",
      "59000/200000 loss: 2.1994\n",
      "60000/200000 loss: 2.5413\n",
      "61000/200000 loss: 2.4610\n",
      "62000/200000 loss: 1.9143\n",
      "63000/200000 loss: 2.2532\n",
      "64000/200000 loss: 1.8328\n",
      "65000/200000 loss: 1.9501\n",
      "66000/200000 loss: 2.1074\n",
      "67000/200000 loss: 1.9487\n",
      "68000/200000 loss: 2.2103\n",
      "69000/200000 loss: 2.4809\n",
      "70000/200000 loss: 2.1915\n",
      "71000/200000 loss: 2.2527\n",
      "72000/200000 loss: 2.0358\n",
      "73000/200000 loss: 2.1696\n",
      "74000/200000 loss: 2.1835\n",
      "75000/200000 loss: 2.0631\n",
      "76000/200000 loss: 2.3429\n",
      "77000/200000 loss: 2.0537\n",
      "78000/200000 loss: 2.2663\n",
      "79000/200000 loss: 2.2420\n",
      "80000/200000 loss: 2.3859\n",
      "81000/200000 loss: 1.4358\n",
      "82000/200000 loss: 2.3619\n",
      "83000/200000 loss: 2.4862\n",
      "84000/200000 loss: 2.3601\n",
      "85000/200000 loss: 2.3347\n",
      "86000/200000 loss: 2.4467\n",
      "87000/200000 loss: 2.1625\n",
      "88000/200000 loss: 1.7690\n",
      "89000/200000 loss: 2.1352\n",
      "90000/200000 loss: 2.1643\n",
      "91000/200000 loss: 2.9727\n",
      "92000/200000 loss: 2.3455\n",
      "93000/200000 loss: 2.1807\n",
      "94000/200000 loss: 2.1408\n",
      "95000/200000 loss: 2.1521\n",
      "96000/200000 loss: 2.2721\n",
      "97000/200000 loss: 2.0336\n",
      "98000/200000 loss: 2.1568\n",
      "99000/200000 loss: 2.0819\n",
      "100000/200000 loss: 2.1699\n",
      "101000/200000 loss: 2.0341\n",
      "102000/200000 loss: 2.1948\n",
      "103000/200000 loss: 2.1548\n",
      "104000/200000 loss: 2.1575\n",
      "105000/200000 loss: 2.0015\n",
      "106000/200000 loss: 2.1429\n",
      "107000/200000 loss: 2.1327\n",
      "108000/200000 loss: 2.1097\n",
      "109000/200000 loss: 2.0267\n",
      "110000/200000 loss: 2.1055\n",
      "111000/200000 loss: 2.3206\n",
      "112000/200000 loss: 2.2619\n",
      "113000/200000 loss: 2.5692\n",
      "114000/200000 loss: 2.0148\n",
      "115000/200000 loss: 2.2068\n",
      "116000/200000 loss: 2.3814\n",
      "117000/200000 loss: 2.1056\n",
      "118000/200000 loss: 2.2245\n",
      "119000/200000 loss: 1.9775\n",
      "120000/200000 loss: 1.7672\n",
      "121000/200000 loss: 2.0249\n",
      "122000/200000 loss: 2.0954\n",
      "123000/200000 loss: 1.7825\n",
      "124000/200000 loss: 2.1070\n",
      "125000/200000 loss: 2.1755\n",
      "126000/200000 loss: 2.3673\n",
      "127000/200000 loss: 2.3583\n",
      "128000/200000 loss: 2.2336\n",
      "129000/200000 loss: 1.8340\n",
      "130000/200000 loss: 2.3201\n",
      "131000/200000 loss: 1.8986\n",
      "132000/200000 loss: 1.9975\n",
      "133000/200000 loss: 1.8600\n",
      "134000/200000 loss: 1.8225\n",
      "135000/200000 loss: 2.0318\n",
      "136000/200000 loss: 2.0675\n",
      "137000/200000 loss: 2.4373\n",
      "138000/200000 loss: 2.1633\n",
      "139000/200000 loss: 2.2619\n",
      "140000/200000 loss: 2.1099\n",
      "141000/200000 loss: 1.9967\n",
      "142000/200000 loss: 1.9371\n",
      "143000/200000 loss: 1.9529\n",
      "144000/200000 loss: 2.0889\n",
      "145000/200000 loss: 2.1938\n",
      "146000/200000 loss: 2.2705\n",
      "147000/200000 loss: 1.9236\n",
      "148000/200000 loss: 1.6755\n",
      "149000/200000 loss: 1.8478\n",
      "150000/200000 loss: 2.0034\n",
      "151000/200000 loss: 2.0771\n",
      "152000/200000 loss: 2.2189\n",
      "153000/200000 loss: 2.0619\n",
      "154000/200000 loss: 1.8303\n",
      "155000/200000 loss: 2.0993\n",
      "156000/200000 loss: 2.1377\n",
      "157000/200000 loss: 1.6573\n",
      "158000/200000 loss: 1.9608\n",
      "159000/200000 loss: 2.3046\n",
      "160000/200000 loss: 2.2822\n",
      "161000/200000 loss: 2.0538\n",
      "162000/200000 loss: 1.8135\n",
      "163000/200000 loss: 2.1905\n",
      "164000/200000 loss: 2.0717\n",
      "165000/200000 loss: 2.0195\n",
      "166000/200000 loss: 1.9860\n",
      "167000/200000 loss: 1.8842\n",
      "168000/200000 loss: 2.1678\n",
      "169000/200000 loss: 2.1104\n",
      "170000/200000 loss: 2.1022\n",
      "171000/200000 loss: 1.8962\n",
      "172000/200000 loss: 2.2656\n",
      "173000/200000 loss: 1.8012\n",
      "174000/200000 loss: 2.0246\n",
      "175000/200000 loss: 2.4970\n",
      "176000/200000 loss: 2.0275\n",
      "177000/200000 loss: 2.2641\n",
      "178000/200000 loss: 2.2296\n",
      "179000/200000 loss: 2.4144\n",
      "180000/200000 loss: 1.8403\n",
      "181000/200000 loss: 2.0074\n",
      "182000/200000 loss: 2.5090\n",
      "183000/200000 loss: 2.4164\n",
      "184000/200000 loss: 2.2791\n",
      "185000/200000 loss: 2.0989\n",
      "186000/200000 loss: 2.3979\n",
      "187000/200000 loss: 2.1140\n",
      "188000/200000 loss: 2.0939\n",
      "189000/200000 loss: 1.6343\n",
      "190000/200000 loss: 2.0602\n",
      "191000/200000 loss: 1.8682\n",
      "192000/200000 loss: 2.3439\n",
      "193000/200000 loss: 1.9708\n",
      "194000/200000 loss: 1.8389\n",
      "195000/200000 loss: 2.0640\n",
      "196000/200000 loss: 1.9390\n",
      "197000/200000 loss: 1.6625\n",
      "198000/200000 loss: 2.2701\n",
      "199000/200000 loss: 2.4520\n"
     ]
    }
   ],
   "source": [
    "max_steps = 200000\n",
    "batch_size = 32\n",
    "\n",
    "# forward pass\n",
    "for i in range(max_steps):\n",
    "    # mini batch\n",
    "    ix = torch.randint(0, len(Xtr), (batch_size,), generator=g)\n",
    "    Yb, Xb = Ytr[ix], Xtr[ix]\n",
    "\n",
    "    # get embeddings\n",
    "    emb = C[Xb] # (:, block_size, embedding_size)\n",
    "    embcat = emb.view(-1, block_size * n_embed)\n",
    "    hpreact = embcat @ W1 + b1 # hidden layer pre-activation\n",
    "    h = torch.tanh(hpreact) # hidden layer post-activation\n",
    "    # output layer\n",
    "    logits = h @ W2 + b2 # (:, 27)\n",
    "    loss = F.cross_entropy(logits, Yb)\n",
    "    \n",
    "    # backward pass\n",
    "    for p in parameters:\n",
    "        p.grad = None\n",
    "    loss.backward()\n",
    "\n",
    "    # update\n",
    "    lr = 0.1 if i < 100000 else 0.01\n",
    "    for p in parameters:\n",
    "        p.data -= lr * p.grad\n",
    "\n",
    "    # track states\n",
    "    if i % 1000 == 0:\n",
    "        print(f'{i:05d}/{max_steps:05d} loss: {loss.item():.4f}')\n",
    "    lossi.append(loss.log10().item())  \n"
   ]
  },
  {
   "cell_type": "code",
   "execution_count": 9,
   "metadata": {},
   "outputs": [
    {
     "data": {
      "text/plain": [
       "[<matplotlib.lines.Line2D at 0x13e512e90>]"
      ]
     },
     "execution_count": 9,
     "metadata": {},
     "output_type": "execute_result"
    },
    {
     "data": {
      "image/png": "[encoded data removed]",
      "text/plain": [
       "<Figure size 640x480 with 1 Axes>"
      ]
     },
     "metadata": {},
     "output_type": "display_data"
    }
   ],
   "source": [
    "plt.plot(range(0, len(lossi)), lossi)"
   ]
  },
  {
   "cell_type": "code",
   "execution_count": 16,
   "metadata": {},
   "outputs": [
    {
     "name": "stdout",
     "output_type": "stream",
     "text": [
      "train      loss:  2.0738866329193115\n",
      "val        loss:  2.119619607925415\n"
     ]
    }
   ],
   "source": [
    "#calculate loss\n",
    "@torch.no_grad() \n",
    "def split_loss(split):\n",
    "  x,y = {\n",
    "    'train': (Xtr, Ytr),\n",
    "    'val': (Xdev, Ydev),\n",
    "    'test': (Xte, Yte),\n",
    "  }[split]\n",
    "  emb = C[x] # (N, block_size, n_embd)\n",
    "  embcat = emb.view(emb.shape[0], -1) # concat into (N, block_size * n_embd)\n",
    "  hpreact = embcat @ W1 + b1\n",
    "  h = torch.tanh(hpreact) # (N, n_hidden)\n",
    "  logits = h @ W2 + b2 # (N, vocab_size)\n",
    "  loss = F.cross_entropy(logits, y)\n",
    "  print(f\"{split:10} loss: \", loss.item())\n",
    "\n",
    "split_loss('train')\n",
    "split_loss('val')"
   ]
  },
  {
   "cell_type": "code",
   "execution_count": 17,
   "metadata": {},
   "outputs": [
    {
     "name": "stdout",
     "output_type": "stream",
     "text": [
      "carmah\n",
      "amelle\n",
      "khy\n",
      "mili\n",
      "taty\n",
      "salaysie\n",
      "mahnen\n",
      "deliah\n",
      "jarqui\n",
      "nellara\n"
     ]
    }
   ],
   "source": [
    "g = torch.Generator().manual_seed(2147483647 + 10)# sample from the model \n",
    "\n",
    "def sample():\n",
    "    out = []\n",
    "    context = [0] * block_size\n",
    "    name = ''\n",
    "    while True:\n",
    "        emb = C[torch.tensor(context)].view(1, -1)\n",
    "        h = torch.tanh(emb @ W1 + b1)\n",
    "        logits = h @ W2 + b2\n",
    "        probs = F.softmax(logits, dim=1)\n",
    "        ix = torch.multinomial(probs, num_samples=1, generator=g).item()\n",
    "        context = context[1:] + [ix]\n",
    "        if ix == 0:\n",
    "            break\n",
    "        out.append(ix)\n",
    "    return ''.join(itos[i] for i in out)\n",
    "\n",
    "for _ in range(10):\n",
    "    print(sample())\n"
   ]
  }
 ],
 "metadata": {
  "kernelspec": {
   "display_name": "venv",
   "language": "python",
   "name": "python3"
  },
  "language_info": {
   "codemirror_mode": {
    "name": "ipython",
    "version": 3
   },
   "file_extension": ".py",
   "mimetype": "text/x-python",
   "name": "python",
   "nbconvert_exporter": "python",
   "pygments_lexer": "ipython3",
   "version": "3.13.1"
  }
 },
 "nbformat": 4,
 "nbformat_minor": 2
}
