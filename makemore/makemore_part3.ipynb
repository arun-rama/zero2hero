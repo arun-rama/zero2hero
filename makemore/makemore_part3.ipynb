{
 "cells": [
  {
   "cell_type": "code",
   "execution_count": 162,
   "metadata": {},
   "outputs": [],
   "source": [
    "import torch\n",
    "import torch.nn.functional as F\n",
    "import matplotlib.pyplot as plt # for making figures\n",
    "%matplotlib inline"
   ]
  },
  {
   "cell_type": "code",
   "execution_count": 163,
   "metadata": {},
   "outputs": [
    {
     "data": {
      "text/plain": [
       "['emma', 'olivia', 'ava', 'isabella', 'sophia', 'charlotte', 'mia', 'amelia']"
      ]
     },
     "execution_count": 163,
     "metadata": {},
     "output_type": "execute_result"
    }
   ],
   "source": [
    "words = open('names.txt', 'r').read().splitlines()\n",
    "words[:8]"
   ]
  },
  {
   "cell_type": "code",
   "execution_count": 173,
   "metadata": {},
   "outputs": [
    {
     "name": "stdout",
     "output_type": "stream",
     "text": [
      "{1: 'a', 2: 'b', 3: 'c', 4: 'd', 5: 'e', 6: 'f', 7: 'g', 8: 'h', 9: 'i', 10: 'j', 11: 'k', 12: 'l', 13: 'm', 14: 'n', 15: 'o', 16: 'p', 17: 'q', 18: 'r', 19: 's', 20: 't', 21: 'u', 22: 'v', 23: 'w', 24: 'x', 25: 'y', 26: 'z', 0: '.'}\n"
     ]
    }
   ],
   "source": [
    "# inverted index\n",
    "chars = sorted(list(set(''.join(words))))\n",
    "stoi = {s:i+1 for i,s in enumerate(chars)}\n",
    "stoi['.'] = 0\n",
    "itos = {i:s for s,i in stoi.items()}\n",
    "vocab_size = len(itos)\n",
    "print(itos)"
   ]
  },
  {
   "cell_type": "code",
   "execution_count": 165,
   "metadata": {},
   "outputs": [
    {
     "name": "stdout",
     "output_type": "stream",
     "text": [
      "total dataset size: 32033\n",
      "data split training 182625 dev 22655 test 22866\n"
     ]
    }
   ],
   "source": [
    "# Build dataset \n",
    "\n",
    "block_size = 3 # context length: number of previous characters to consider for predicting next one\n",
    "\n",
    "def build_dataset(words):\n",
    "    X, Y = [], []\n",
    "    for w in words:\n",
    "        context = [0] * block_size\n",
    "        for c in w + '.':\n",
    "            i = stoi[c]\n",
    "            X.append(context)\n",
    "            Y.append(i)\n",
    "            # print(''.join(itos[i] for i in context), '--->', itos[i])\n",
    "            context = context[1:] + [i]\n",
    "    return torch.tensor(X), torch.tensor(Y)\n",
    "\n",
    "\n",
    "import random\n",
    "random.seed(42)\n",
    "random.shuffle(words)\n",
    "\n",
    "n1, n2 = int(0.8 * len(words)), int(0.9 * len(words))\n",
    "\n",
    "Xtr, Ytr = build_dataset(words[:n1])\n",
    "Xdev, Ydev = build_dataset(words[n1:n2])\n",
    "Xte, Yte = build_dataset(words[n2:])\n",
    "\n",
    "print(\"total dataset size:\", len(words))\n",
    "print(f\"data split training {len(Xtr)} dev {len(Xdev)} test {len(Xte)}\")    \n"
   ]
  },
  {
   "cell_type": "code",
   "execution_count": 166,
   "metadata": {},
   "outputs": [
    {
     "name": "stdout",
     "output_type": "stream",
     "text": [
      " num parameters: 11697\n"
     ]
    }
   ],
   "source": [
    "n_embed = 10\n",
    "n_hidden = 200\n",
    "\n",
    "# uniform or normal distribution\n",
    "randfn = torch.randn\n",
    "# we are representing each character by two values\n",
    "# this is alternative to the one hot encoding which wont scale well for large vocabularies and context lengths\n",
    "C = randfn((27, n_embed), generator=g)\n",
    "# layer 1\n",
    "W1 = randfn((block_size * n_embed, n_hidden), generator=g) * 0.1\n",
    "# b1 = randfn((n_hidden,), generator=g) * 0.01\n",
    "# layer 2: output layer\n",
    "W2 = randfn((n_hidden, 27), generator=g) * 0.01\n",
    "b2 = randfn((27,), generator=g) * 0\n",
    "\n",
    "bngain = torch.ones((1, n_hidden))\n",
    "bnbias = torch.zeros((1, n_hidden))\n",
    "bnmean_running = torch.zeros((1, n_hidden))\n",
    "bnstd_running = torch.ones((1, n_hidden))\n",
    "\n",
    "parameters = [C, W1, W2, b2]\n",
    "for p in parameters:\n",
    "    p.requires_grad = True\n",
    "print(\" num parameters:\", sum(p.numel() for p in parameters))\n"
   ]
  },
  {
   "cell_type": "code",
   "execution_count": 167,
   "metadata": {},
   "outputs": [
    {
     "name": "stdout",
     "output_type": "stream",
     "text": [
      "00000/200000 loss: 3.3239\n",
      "01000/200000 loss: 2.4324\n",
      "02000/200000 loss: 2.3120\n",
      "03000/200000 loss: 2.0976\n",
      "04000/200000 loss: 2.0022\n",
      "05000/200000 loss: 2.1009\n",
      "06000/200000 loss: 2.0748\n",
      "07000/200000 loss: 2.4102\n",
      "08000/200000 loss: 1.7296\n",
      "09000/200000 loss: 2.4675\n",
      "10000/200000 loss: 2.1112\n",
      "11000/200000 loss: 2.1157\n",
      "12000/200000 loss: 2.0045\n",
      "13000/200000 loss: 2.4219\n",
      "14000/200000 loss: 2.0038\n",
      "15000/200000 loss: 2.6515\n",
      "16000/200000 loss: 2.3109\n",
      "17000/200000 loss: 2.3137\n",
      "18000/200000 loss: 2.1379\n",
      "19000/200000 loss: 2.0921\n",
      "20000/200000 loss: 2.5787\n",
      "21000/200000 loss: 2.4077\n",
      "22000/200000 loss: 2.1885\n",
      "23000/200000 loss: 2.2292\n",
      "24000/200000 loss: 2.3872\n",
      "25000/200000 loss: 2.2914\n",
      "26000/200000 loss: 2.4734\n",
      "27000/200000 loss: 2.3182\n",
      "28000/200000 loss: 2.4771\n",
      "29000/200000 loss: 2.3078\n",
      "30000/200000 loss: 1.9659\n",
      "31000/200000 loss: 2.1811\n",
      "32000/200000 loss: 2.4082\n",
      "33000/200000 loss: 2.1703\n",
      "34000/200000 loss: 2.2217\n",
      "35000/200000 loss: 2.0611\n",
      "36000/200000 loss: 2.5218\n",
      "37000/200000 loss: 2.1924\n",
      "38000/200000 loss: 2.3230\n",
      "39000/200000 loss: 1.9894\n",
      "40000/200000 loss: 2.2743\n",
      "41000/200000 loss: 2.2951\n",
      "42000/200000 loss: 2.4061\n",
      "43000/200000 loss: 2.1688\n",
      "44000/200000 loss: 2.5874\n",
      "45000/200000 loss: 2.1467\n",
      "46000/200000 loss: 2.1472\n",
      "47000/200000 loss: 2.0555\n",
      "48000/200000 loss: 2.7728\n",
      "49000/200000 loss: 2.4233\n",
      "50000/200000 loss: 1.7813\n",
      "51000/200000 loss: 2.1437\n",
      "52000/200000 loss: 2.3959\n",
      "53000/200000 loss: 2.0985\n",
      "54000/200000 loss: 2.2006\n",
      "55000/200000 loss: 2.2876\n",
      "56000/200000 loss: 2.1123\n",
      "57000/200000 loss: 1.7214\n",
      "58000/200000 loss: 1.9254\n",
      "59000/200000 loss: 2.1104\n",
      "60000/200000 loss: 2.1376\n",
      "61000/200000 loss: 2.3980\n",
      "62000/200000 loss: 2.0455\n",
      "63000/200000 loss: 2.1982\n",
      "64000/200000 loss: 2.2870\n",
      "65000/200000 loss: 2.2878\n",
      "66000/200000 loss: 2.2943\n",
      "67000/200000 loss: 2.2111\n",
      "68000/200000 loss: 2.5332\n",
      "69000/200000 loss: 2.4119\n",
      "70000/200000 loss: 2.4164\n",
      "71000/200000 loss: 2.1930\n",
      "72000/200000 loss: 2.0472\n",
      "73000/200000 loss: 2.0931\n",
      "74000/200000 loss: 2.3702\n",
      "75000/200000 loss: 2.1599\n",
      "76000/200000 loss: 1.9316\n",
      "77000/200000 loss: 2.2824\n",
      "78000/200000 loss: 2.0331\n",
      "79000/200000 loss: 1.8141\n",
      "80000/200000 loss: 2.3616\n",
      "81000/200000 loss: 1.9050\n",
      "82000/200000 loss: 2.2413\n",
      "83000/200000 loss: 2.0281\n",
      "84000/200000 loss: 2.0473\n",
      "85000/200000 loss: 2.0152\n",
      "86000/200000 loss: 1.8918\n",
      "87000/200000 loss: 2.0478\n",
      "88000/200000 loss: 2.1223\n",
      "89000/200000 loss: 2.4138\n",
      "90000/200000 loss: 2.0222\n",
      "91000/200000 loss: 2.3890\n",
      "92000/200000 loss: 1.7278\n",
      "93000/200000 loss: 2.0008\n",
      "94000/200000 loss: 2.2827\n",
      "95000/200000 loss: 2.0305\n",
      "96000/200000 loss: 1.9309\n",
      "97000/200000 loss: 2.1835\n",
      "98000/200000 loss: 2.5023\n",
      "99000/200000 loss: 2.3853\n",
      "100000/200000 loss: 2.2909\n",
      "101000/200000 loss: 1.6890\n",
      "102000/200000 loss: 2.3386\n",
      "103000/200000 loss: 2.4018\n",
      "104000/200000 loss: 2.0290\n",
      "105000/200000 loss: 2.1627\n",
      "106000/200000 loss: 2.0821\n",
      "107000/200000 loss: 2.3786\n",
      "108000/200000 loss: 2.6730\n",
      "109000/200000 loss: 2.0391\n",
      "110000/200000 loss: 2.3091\n",
      "111000/200000 loss: 2.0155\n",
      "112000/200000 loss: 2.0016\n",
      "113000/200000 loss: 2.1897\n",
      "114000/200000 loss: 2.2135\n",
      "115000/200000 loss: 2.5511\n",
      "116000/200000 loss: 2.0928\n",
      "117000/200000 loss: 2.1489\n",
      "118000/200000 loss: 1.8504\n",
      "119000/200000 loss: 2.2513\n",
      "120000/200000 loss: 1.6537\n",
      "121000/200000 loss: 2.2778\n",
      "122000/200000 loss: 2.2060\n",
      "123000/200000 loss: 1.7435\n",
      "124000/200000 loss: 2.1965\n",
      "125000/200000 loss: 1.9738\n",
      "126000/200000 loss: 2.0104\n",
      "127000/200000 loss: 2.1280\n",
      "128000/200000 loss: 2.0733\n",
      "129000/200000 loss: 2.1595\n",
      "130000/200000 loss: 1.9701\n",
      "131000/200000 loss: 2.0997\n",
      "132000/200000 loss: 1.9852\n",
      "133000/200000 loss: 1.9751\n",
      "134000/200000 loss: 2.0553\n",
      "135000/200000 loss: 2.2068\n",
      "136000/200000 loss: 1.8645\n",
      "137000/200000 loss: 1.7550\n",
      "138000/200000 loss: 2.0809\n",
      "139000/200000 loss: 2.1763\n",
      "140000/200000 loss: 2.2099\n",
      "141000/200000 loss: 1.8913\n",
      "142000/200000 loss: 1.9259\n",
      "143000/200000 loss: 1.8870\n",
      "144000/200000 loss: 1.9308\n",
      "145000/200000 loss: 1.9926\n",
      "146000/200000 loss: 2.0550\n",
      "147000/200000 loss: 2.6047\n",
      "148000/200000 loss: 2.3081\n",
      "149000/200000 loss: 2.4337\n",
      "150000/200000 loss: 2.0647\n",
      "151000/200000 loss: 2.2265\n",
      "152000/200000 loss: 2.2535\n",
      "153000/200000 loss: 2.3057\n",
      "154000/200000 loss: 1.9820\n",
      "155000/200000 loss: 2.4687\n",
      "156000/200000 loss: 2.0586\n",
      "157000/200000 loss: 2.4429\n",
      "158000/200000 loss: 1.8709\n",
      "159000/200000 loss: 2.1128\n",
      "160000/200000 loss: 2.0462\n",
      "161000/200000 loss: 1.9799\n",
      "162000/200000 loss: 2.2358\n",
      "163000/200000 loss: 1.8715\n",
      "164000/200000 loss: 2.2736\n",
      "165000/200000 loss: 2.1186\n",
      "166000/200000 loss: 2.0212\n",
      "167000/200000 loss: 1.9247\n",
      "168000/200000 loss: 1.5873\n",
      "169000/200000 loss: 1.8699\n",
      "170000/200000 loss: 2.4271\n",
      "171000/200000 loss: 1.6936\n",
      "172000/200000 loss: 2.2923\n",
      "173000/200000 loss: 1.9087\n",
      "174000/200000 loss: 1.8346\n",
      "175000/200000 loss: 2.3491\n",
      "176000/200000 loss: 2.2117\n",
      "177000/200000 loss: 1.9093\n",
      "178000/200000 loss: 2.1018\n",
      "179000/200000 loss: 1.7592\n",
      "180000/200000 loss: 2.0917\n",
      "181000/200000 loss: 2.0211\n",
      "182000/200000 loss: 2.3564\n",
      "183000/200000 loss: 1.7935\n",
      "184000/200000 loss: 1.9565\n",
      "185000/200000 loss: 2.4233\n",
      "186000/200000 loss: 1.9886\n",
      "187000/200000 loss: 1.6428\n",
      "188000/200000 loss: 1.9804\n",
      "189000/200000 loss: 2.1525\n",
      "190000/200000 loss: 2.0761\n",
      "191000/200000 loss: 2.3136\n",
      "192000/200000 loss: 2.2440\n",
      "193000/200000 loss: 1.7383\n",
      "194000/200000 loss: 1.9759\n",
      "195000/200000 loss: 2.2094\n",
      "196000/200000 loss: 2.2235\n",
      "197000/200000 loss: 2.1304\n",
      "198000/200000 loss: 1.9376\n",
      "199000/200000 loss: 1.9946\n"
     ]
    }
   ],
   "source": [
    "\n",
    "max_steps = 200000\n",
    "batch_size = 32\n",
    "\n",
    "lossi = []\n",
    "# forward pass\n",
    "for i in range(max_steps):\n",
    "    # mini batch\n",
    "    ix = torch.randint(0, len(Xtr), (batch_size,), generator=g)\n",
    "    Yb, Xb = Ytr[ix], Xtr[ix]\n",
    "\n",
    "    # get embeddings\n",
    "    emb = C[Xb] # (:, block_size, embedding_size)\n",
    "    embcat = emb.view(-1, block_size * n_embed)\n",
    "    hpreact = embcat @ W1 # hidden layer pre-activation\n",
    "    # batch norm\n",
    "    # ------------\n",
    "    bnmeani = hpreact.mean(dim=0, keepdim=True)\n",
    "    bnstdevi = hpreact.std(dim=0, keepdim=True)\n",
    "    hpreact = bngain * (hpreact - bnmeani) / bnstdevi + bnbias\n",
    "    with torch.no_grad():\n",
    "        bnmean_running = bnmean_running * 0.999 + bnmeani * 0.001\n",
    "        bnstd_running = bnstd_running * 0.999 + bnstdevi * 0.001\n",
    "    # ------------\n",
    "    h = torch.tanh(hpreact) # hidden layer post-activation\n",
    "    # output layer\n",
    "    logits = h @ W2 + b2 # (:, 27)\n",
    "    loss = F.cross_entropy(logits, Yb)\n",
    "    \n",
    "    # backward pass\n",
    "    for p in parameters:\n",
    "        p.grad = None\n",
    "    loss.backward()\n",
    "\n",
    "    # update\n",
    "    lr = 0.1 if i < 100000 else 0.01\n",
    "    for p in parameters:\n",
    "        p.data -= lr * p.grad\n",
    "\n",
    "    # track states\n",
    "    if i % 1000 == 0:\n",
    "        print(f'{i:05d}/{max_steps:05d} loss: {loss.item():.4f}')\n",
    "    lossi.append(loss.log10().item())  \n"
   ]
  },
  {
   "cell_type": "code",
   "execution_count": 168,
   "metadata": {},
   "outputs": [
    {
     "data": {
      "image/png": "[encoded data removed]",
      "text/plain": [
       "<Figure size 640x480 with 1 Axes>"
      ]
     },
     "metadata": {},
     "output_type": "display_data"
    }
   ],
   "source": [
    "plt.hist(h.view(-1).tolist(), bins=100);"
   ]
  },
  {
   "cell_type": "code",
   "execution_count": 169,
   "metadata": {},
   "outputs": [
    {
     "data": {
      "image/png": "[encoded data removed]",
      "text/plain": [
       "<Figure size 2000x1000 with 1 Axes>"
      ]
     },
     "metadata": {},
     "output_type": "display_data"
    }
   ],
   "source": [
    "plt.figure(figsize=(20,10))\n",
    "plt.imshow(h.abs() > 0.99, cmap='gray');"
   ]
  },
  {
   "cell_type": "code",
   "execution_count": 170,
   "metadata": {},
   "outputs": [
    {
     "data": {
      "image/png": "[encoded data removed]",
      "text/plain": [
       "<Figure size 640x480 with 1 Axes>"
      ]
     },
     "metadata": {},
     "output_type": "display_data"
    }
   ],
   "source": [
    "plt.plot(range(0, len(lossi)), lossi);"
   ]
  },
  {
   "cell_type": "code",
   "execution_count": 171,
   "metadata": {},
   "outputs": [
    {
     "name": "stdout",
     "output_type": "stream",
     "text": [
      "train      loss:  2.0718297958374023\n",
      "val        loss:  2.1118056774139404\n"
     ]
    }
   ],
   "source": [
    "#calculate loss\n",
    "@torch.no_grad() \n",
    "def split_loss(split):\n",
    "  x,y = {\n",
    "    'train': (Xtr, Ytr),\n",
    "    'val': (Xdev, Ydev),\n",
    "    'test': (Xte, Yte),\n",
    "  }[split]\n",
    "  emb = C[x] # (N, block_size, n_embd)\n",
    "  embcat = emb.view(emb.shape[0], -1) # concat into (N, block_size * n_embd)\n",
    "  hpreact = embcat @ W1 \n",
    "  hpreact = bngain * (hpreact - bnmean_running) / bnstd_running + bnbias\n",
    "  h = torch.tanh(hpreact) # (N, n_hidden)\n",
    "  logits = h @ W2 + b2 # (N, vocab_size)\n",
    "  loss = F.cross_entropy(logits, y)\n",
    "  print(f\"{split:10} loss: \", loss.item())\n",
    "\n",
    "split_loss('train')\n",
    "split_loss('val')"
   ]
  },
  {
   "cell_type": "code",
   "execution_count": 172,
   "metadata": {},
   "outputs": [
    {
     "name": "stdout",
     "output_type": "stream",
     "text": [
      "carlah\n",
      "amelle\n",
      "khi\n",
      "mri\n",
      "reety\n",
      "salaysie\n",
      "mahni\n",
      "faresara\n",
      "kaeli\n",
      "ner\n"
     ]
    }
   ],
   "source": [
    "g = torch.Generator().manual_seed(2147483647 + 10)# sample from the model \n",
    "\n",
    "def sample():\n",
    "    out = []\n",
    "    context = [0] * block_size\n",
    "    name = ''\n",
    "    while True:\n",
    "        emb = C[torch.tensor(context)].view(1, -1)\n",
    "        hpreact = emb @ W1 \n",
    "        hpreact = bngain * (hpreact - bnmean_running) / bnstd_running + bnbias\n",
    "        h = torch.tanh(hpreact) # (N, n_hidden)\n",
    "        logits = h @ W2 + b2\n",
    "        probs = F.softmax(logits, dim=1)\n",
    "        ix = torch.multinomial(probs, num_samples=1, generator=g).item()\n",
    "        context = context[1:] + [ix]\n",
    "        if ix == 0:\n",
    "            break\n",
    "        out.append(ix)\n",
    "    return ''.join(itos[i] for i in out)\n",
    "\n",
    "for _ in range(10):\n",
    "    print(sample())\n"
   ]
  }
 ],
 "metadata": {
  "kernelspec": {
   "display_name": "venv",
   "language": "python",
   "name": "python3"
  },
  "language_info": {
   "codemirror_mode": {
    "name": "ipython",
    "version": 3
   },
   "file_extension": ".py",
   "mimetype": "text/x-python",
   "name": "python",
   "nbconvert_exporter": "python",
   "pygments_lexer": "ipython3",
   "version": "3.13.1"
  }
 },
 "nbformat": 4,
 "nbformat_minor": 2
}
